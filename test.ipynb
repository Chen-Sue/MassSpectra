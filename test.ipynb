{
 "cells": [
  {
   "cell_type": "code",
   "execution_count": null,
   "metadata": {},
   "outputs": [],
   "source": [
    "from rdkit import Chem\n",
    "from rdkit.Chem import Draw\n",
    "\n",
    "mol = Chem.MolFromSmiles('CS(=O)CCCCCCCN=C=S')\n",
    "mol = Chem.MolFromSmiles('Coc1cc(CCN)c(OC)cc1Br')\n",
    "Draw.MolToImage(mol, size=(150,150), kekulize=True)\n",
    "# Draw.ShowMol(mol, size=(150,150), kekulize=False)\n",
    "Draw.MolToFile(mol, 'data/output.png', size=(600, 600))"
   ]
  },
  {
   "cell_type": "code",
   "execution_count": null,
   "metadata": {},
   "outputs": [],
   "source": [
    "from rdkit.Chem import Draw\n",
    "from rdkit import Chem\n",
    "from rdkit.Chem import AllChem\n",
    "smis=[\n",
    "    'COC1=C(C=CC(=C1)NS(=O)(=O)C)C2=CN=CN3C2=CC=C3',\n",
    "    'C1=CC2=C(C(=C1)C3=CN=CN4C3=CC=C4)ON=C2C5=CC=C(C=C5)F',\n",
    "    'COC(=O)C1=CC2=CC=CN2C=N1',\n",
    "    'C1=C2C=C(N=CN2C(=C1)Cl)C(=O)O',\n",
    "]\n",
    "template = Chem.MolFromSmiles('c1nccc2n1ccc2')\n",
    "AllChem.Compute2DCoords(template)\n",
    "mols=[]\n",
    "for smi in smis:\n",
    "    mol = Chem.MolFromSmiles(smi)\n",
    "    AllChem.GenerateDepictionMatching2DStructure(mol,template)\n",
    "    mols.append(mol)\n",
    "img=Draw.MolsToGridImage(mols,molsPerRow=4,subImgSize=(200,200),legends=['' for x in mols])\n",
    "img"
   ]
  },
  {
   "cell_type": "code",
   "execution_count": null,
   "metadata": {},
   "outputs": [
    {
     "name": "stdout",
     "output_type": "stream",
     "text": [
      "C(=O)CC(Br)C[N+]CN\n",
      "C ( = O ) C C ( Br ) C [ N + ] C N\n",
      "True\n",
      "C o c 1 c c ( C C N ) c ( O C ) c c 1 Br\n",
      "O [ C @@ H ] 1 C [ C @@ ] ( O ) ( C [ C @@ H ] ( O ) [ C @ H ] 1 O C ( = O ) \\ C = C \\ C 1 = C C ( O ) = C ( O ) C = C 1 ) C ( O ) = O\n"
     ]
    }
   ],
   "source": [
    "\n",
    "from utils_function import split_smiles\n",
    "def test_split():\n",
    "    sm = 'C(=O)CC(Br)C[N+]CN'\n",
    "    pred = 'C ( = O ) C C ( Br ) C [ N + ] C N'\n",
    "    assert split_smiles(sm)==pred\n",
    "    print(sm)\n",
    "    print(pred)\n",
    "    print(split_smiles(sm)==pred)\n",
    "    print(split_smiles(\"Coc1cc(CCN)c(OC)cc1Br\"))\n",
    "\n",
    "test_split()\n",
    "\n",
    "print(split_smiles(\"O[C@@H]1C[C@@](O)(C[C@@H](O)[C@H]1OC(=O)\\C=C\\C1=CC(O)=C(O)C=C1)C(O)=O\"))\n"
   ]
  }
 ],
 "metadata": {
  "interpreter": {
   "hash": "d8856b389641c5f82c13598162e82c95871ff69e8ef7ec5106d2f60aeab75954"
  },
  "kernelspec": {
   "display_name": "Python 3.8.13 ('mass_spectra')",
   "language": "python",
   "name": "python3"
  },
  "language_info": {
   "codemirror_mode": {
    "name": "ipython",
    "version": 3
   },
   "file_extension": ".py",
   "mimetype": "text/x-python",
   "name": "python",
   "nbconvert_exporter": "python",
   "pygments_lexer": "ipython3",
   "version": "3.8.13"
  },
  "orig_nbformat": 4
 },
 "nbformat": 4,
 "nbformat_minor": 2
}
